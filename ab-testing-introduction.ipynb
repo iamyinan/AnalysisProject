{
 "cells": [
  {
   "cell_type": "code",
   "execution_count": 1,
   "id": "d4d01e45",
   "metadata": {
    "_cell_guid": "b1076dfc-b9ad-4769-8c92-a6c4dae69d19",
    "_uuid": "8f2839f25d086af736a60e9eeb907d3b93b6e0e5",
    "execution": {
     "iopub.execute_input": "2022-06-20T01:55:22.398901Z",
     "iopub.status.busy": "2022-06-20T01:55:22.398235Z",
     "iopub.status.idle": "2022-06-20T01:55:22.414352Z",
     "shell.execute_reply": "2022-06-20T01:55:22.413603Z"
    },
    "papermill": {
     "duration": 0.029263,
     "end_time": "2022-06-20T01:55:22.416563",
     "exception": false,
     "start_time": "2022-06-20T01:55:22.387300",
     "status": "completed"
    },
    "tags": []
   },
   "outputs": [
    {
     "name": "stdout",
     "output_type": "stream",
     "text": [
      "/kaggle/input/ab-testing/ab_testing.xlsx\n"
     ]
    }
   ],
   "source": [
    "# This Python 3 environment comes with many helpful analytics libraries installed\n",
    "# It is defined by the kaggle/python Docker image: https://github.com/kaggle/docker-python\n",
    "# For example, here's several helpful packages to load\n",
    "\n",
    "import numpy as np # linear algebra\n",
    "import pandas as pd # data processing, CSV file I/O (e.g. pd.read_csv)\n",
    "\n",
    "# Input data files are available in the read-only \"../input/\" directory\n",
    "# For example, running this (by clicking run or pressing Shift+Enter) will list all files under the input directory\n",
    "\n",
    "import os\n",
    "for dirname, _, filenames in os.walk('/kaggle/input'):\n",
    "    for filename in filenames:\n",
    "        print(os.path.join(dirname, filename))\n",
    "\n",
    "# You can write up to 20GB to the current directory (/kaggle/working/) that gets preserved as output when you create a version using \"Save & Run All\" \n",
    "# You can also write temporary files to /kaggle/temp/, but they won't be saved outside of the current session"
   ]
  },
  {
   "cell_type": "code",
   "execution_count": 2,
   "id": "fcc62f61",
   "metadata": {
    "execution": {
     "iopub.execute_input": "2022-06-20T01:55:22.430967Z",
     "iopub.status.busy": "2022-06-20T01:55:22.430166Z",
     "iopub.status.idle": "2022-06-20T01:55:23.801524Z",
     "shell.execute_reply": "2022-06-20T01:55:23.800589Z"
    },
    "papermill": {
     "duration": 1.381523,
     "end_time": "2022-06-20T01:55:23.804185",
     "exception": false,
     "start_time": "2022-06-20T01:55:22.422662",
     "status": "completed"
    },
    "tags": []
   },
   "outputs": [],
   "source": [
    "\n",
    "import scipy as sp\n",
    "from statsmodels.stats.proportion import proportions_ztest\n",
    "import itertools\n",
    "import numpy as np\n",
    "import pandas as pd\n",
    "import matplotlib.pyplot as plt\n",
    "import seaborn as sns\n",
    "import statsmodels.stats.api as sms\n",
    "from scipy.stats import \\\n",
    "    ttest_1samp, \\\n",
    "    shapiro, \\\n",
    "    levene, \\\n",
    "    ttest_ind, \\\n",
    "    mannwhitneyu, \\\n",
    "    pearsonr, \\\n",
    "    spearmanr, \\\n",
    "    kendalltau, \\\n",
    "    f_oneway, \\\n",
    "    kruskal"
   ]
  },
  {
   "cell_type": "markdown",
   "id": "996abd59",
   "metadata": {
    "papermill": {
     "duration": 0.005529,
     "end_time": "2022-06-20T01:55:23.815824",
     "exception": false,
     "start_time": "2022-06-20T01:55:23.810295",
     "status": "completed"
    },
    "tags": []
   },
   "source": [
    "# AB Testing"
   ]
  },
  {
   "cell_type": "markdown",
   "id": "574dc86c",
   "metadata": {
    "papermill": {
     "duration": 0.005545,
     "end_time": "2022-06-20T01:55:23.827083",
     "exception": false,
     "start_time": "2022-06-20T01:55:23.821538",
     "status": "completed"
    },
    "tags": []
   },
   "source": [
    "**What is A/B Testing?**\n",
    "\n",
    "*  (also known as split testing or bucket testing)  is a randomized experimentation process \n",
    "* A/B testing is a way to compare two versions of something to figure out which performs better. \n",
    "* In A/B testing, A refers to ‘control’ or the original testing variable. Whereas B refers to ‘variation’ or a new version of the original testing variable. \n"
   ]
  },
  {
   "cell_type": "code",
   "execution_count": 3,
   "id": "eda7ba42",
   "metadata": {
    "execution": {
     "iopub.execute_input": "2022-06-20T01:55:23.840792Z",
     "iopub.status.busy": "2022-06-20T01:55:23.839765Z",
     "iopub.status.idle": "2022-06-20T01:55:37.914593Z",
     "shell.execute_reply": "2022-06-20T01:55:37.913596Z"
    },
    "papermill": {
     "duration": 14.084259,
     "end_time": "2022-06-20T01:55:37.916974",
     "exception": false,
     "start_time": "2022-06-20T01:55:23.832715",
     "status": "completed"
    },
    "tags": []
   },
   "outputs": [
    {
     "name": "stdout",
     "output_type": "stream",
     "text": [
      "Collecting openpyxl\r\n",
      "  Downloading openpyxl-3.0.10-py2.py3-none-any.whl (242 kB)\r\n",
      "\u001b[2K     \u001b[90m━━━━━━━━━━━━━━━━━━━━━━━━━━━━━━━━━━━━━━━\u001b[0m \u001b[32m242.1/242.1 kB\u001b[0m \u001b[31m1.1 MB/s\u001b[0m eta \u001b[36m0:00:00\u001b[0m\r\n",
      "\u001b[?25hCollecting et-xmlfile\r\n",
      "  Downloading et_xmlfile-1.1.0-py3-none-any.whl (4.7 kB)\r\n",
      "Installing collected packages: et-xmlfile, openpyxl\r\n",
      "Successfully installed et-xmlfile-1.1.0 openpyxl-3.0.10\r\n",
      "\u001b[33mWARNING: Running pip as the 'root' user can result in broken permissions and conflicting behaviour with the system package manager. It is recommended to use a virtual environment instead: https://pip.pypa.io/warnings/venv\u001b[0m\u001b[33m\r\n",
      "\u001b[0m"
     ]
    }
   ],
   "source": [
    "!pip install openpyxl\n",
    "data_control = pd.read_excel(\"../input/ab-testing/ab_testing.xlsx\", sheet_name=\"Control Group\")\n",
    "data_test = pd.read_excel(\"../input/ab-testing/ab_testing.xlsx\", sheet_name=\"Test Group\")"
   ]
  },
  {
   "cell_type": "markdown",
   "id": "37a8f0cc",
   "metadata": {
    "papermill": {
     "duration": 0.006505,
     "end_time": "2022-06-20T01:55:37.930771",
     "exception": false,
     "start_time": "2022-06-20T01:55:37.924266",
     "status": "completed"
    },
    "tags": []
   },
   "source": [
    "* Impression – Ad views\n",
    "* Click – Click\n",
    "* Indicates the number of clicks on the displayed ad.\n",
    "* Variables\n",
    "* Purchase – Purchase\n",
    "* Indicates the number of products purchased after the ads clicked.\n",
    "* Earning – Earning\n",
    "* Boiler obtained after purchased products"
   ]
  },
  {
   "cell_type": "code",
   "execution_count": 4,
   "id": "f61d16b4",
   "metadata": {
    "execution": {
     "iopub.execute_input": "2022-06-20T01:55:37.946176Z",
     "iopub.status.busy": "2022-06-20T01:55:37.945778Z",
     "iopub.status.idle": "2022-06-20T01:55:37.968112Z",
     "shell.execute_reply": "2022-06-20T01:55:37.967381Z"
    },
    "papermill": {
     "duration": 0.032675,
     "end_time": "2022-06-20T01:55:37.970191",
     "exception": false,
     "start_time": "2022-06-20T01:55:37.937516",
     "status": "completed"
    },
    "tags": []
   },
   "outputs": [
    {
     "data": {
      "text/html": [
       "<div>\n",
       "<style scoped>\n",
       "    .dataframe tbody tr th:only-of-type {\n",
       "        vertical-align: middle;\n",
       "    }\n",
       "\n",
       "    .dataframe tbody tr th {\n",
       "        vertical-align: top;\n",
       "    }\n",
       "\n",
       "    .dataframe thead th {\n",
       "        text-align: right;\n",
       "    }\n",
       "</style>\n",
       "<table border=\"1\" class=\"dataframe\">\n",
       "  <thead>\n",
       "    <tr style=\"text-align: right;\">\n",
       "      <th></th>\n",
       "      <th>Impression</th>\n",
       "      <th>Click</th>\n",
       "      <th>Purchase</th>\n",
       "      <th>Earning</th>\n",
       "    </tr>\n",
       "  </thead>\n",
       "  <tbody>\n",
       "    <tr>\n",
       "      <th>0</th>\n",
       "      <td>82529.459271</td>\n",
       "      <td>6090.077317</td>\n",
       "      <td>665.211255</td>\n",
       "      <td>2311.277143</td>\n",
       "    </tr>\n",
       "    <tr>\n",
       "      <th>1</th>\n",
       "      <td>98050.451926</td>\n",
       "      <td>3382.861786</td>\n",
       "      <td>315.084895</td>\n",
       "      <td>1742.806855</td>\n",
       "    </tr>\n",
       "    <tr>\n",
       "      <th>2</th>\n",
       "      <td>82696.023549</td>\n",
       "      <td>4167.965750</td>\n",
       "      <td>458.083738</td>\n",
       "      <td>1797.827447</td>\n",
       "    </tr>\n",
       "    <tr>\n",
       "      <th>3</th>\n",
       "      <td>109914.400398</td>\n",
       "      <td>4910.882240</td>\n",
       "      <td>487.090773</td>\n",
       "      <td>1696.229178</td>\n",
       "    </tr>\n",
       "    <tr>\n",
       "      <th>4</th>\n",
       "      <td>108457.762630</td>\n",
       "      <td>5987.655811</td>\n",
       "      <td>441.034050</td>\n",
       "      <td>1543.720179</td>\n",
       "    </tr>\n",
       "  </tbody>\n",
       "</table>\n",
       "</div>"
      ],
      "text/plain": [
       "      Impression        Click    Purchase      Earning\n",
       "0   82529.459271  6090.077317  665.211255  2311.277143\n",
       "1   98050.451926  3382.861786  315.084895  1742.806855\n",
       "2   82696.023549  4167.965750  458.083738  1797.827447\n",
       "3  109914.400398  4910.882240  487.090773  1696.229178\n",
       "4  108457.762630  5987.655811  441.034050  1543.720179"
      ]
     },
     "execution_count": 4,
     "metadata": {},
     "output_type": "execute_result"
    }
   ],
   "source": [
    "data_control.head()"
   ]
  },
  {
   "cell_type": "code",
   "execution_count": 5,
   "id": "970170a8",
   "metadata": {
    "execution": {
     "iopub.execute_input": "2022-06-20T01:55:37.987466Z",
     "iopub.status.busy": "2022-06-20T01:55:37.986816Z",
     "iopub.status.idle": "2022-06-20T01:55:37.997313Z",
     "shell.execute_reply": "2022-06-20T01:55:37.996467Z"
    },
    "papermill": {
     "duration": 0.021353,
     "end_time": "2022-06-20T01:55:37.999253",
     "exception": false,
     "start_time": "2022-06-20T01:55:37.977900",
     "status": "completed"
    },
    "tags": []
   },
   "outputs": [
    {
     "data": {
      "text/html": [
       "<div>\n",
       "<style scoped>\n",
       "    .dataframe tbody tr th:only-of-type {\n",
       "        vertical-align: middle;\n",
       "    }\n",
       "\n",
       "    .dataframe tbody tr th {\n",
       "        vertical-align: top;\n",
       "    }\n",
       "\n",
       "    .dataframe thead th {\n",
       "        text-align: right;\n",
       "    }\n",
       "</style>\n",
       "<table border=\"1\" class=\"dataframe\">\n",
       "  <thead>\n",
       "    <tr style=\"text-align: right;\">\n",
       "      <th></th>\n",
       "      <th>Impression</th>\n",
       "      <th>Click</th>\n",
       "      <th>Purchase</th>\n",
       "      <th>Earning</th>\n",
       "    </tr>\n",
       "  </thead>\n",
       "  <tbody>\n",
       "    <tr>\n",
       "      <th>0</th>\n",
       "      <td>120103.503796</td>\n",
       "      <td>3216.547958</td>\n",
       "      <td>702.160346</td>\n",
       "      <td>1939.611243</td>\n",
       "    </tr>\n",
       "    <tr>\n",
       "      <th>1</th>\n",
       "      <td>134775.943363</td>\n",
       "      <td>3635.082422</td>\n",
       "      <td>834.054286</td>\n",
       "      <td>2929.405820</td>\n",
       "    </tr>\n",
       "    <tr>\n",
       "      <th>2</th>\n",
       "      <td>107806.620788</td>\n",
       "      <td>3057.143560</td>\n",
       "      <td>422.934258</td>\n",
       "      <td>2526.244877</td>\n",
       "    </tr>\n",
       "    <tr>\n",
       "      <th>3</th>\n",
       "      <td>116445.275526</td>\n",
       "      <td>4650.473911</td>\n",
       "      <td>429.033535</td>\n",
       "      <td>2281.428574</td>\n",
       "    </tr>\n",
       "    <tr>\n",
       "      <th>4</th>\n",
       "      <td>145082.516838</td>\n",
       "      <td>5201.387724</td>\n",
       "      <td>749.860442</td>\n",
       "      <td>2781.697521</td>\n",
       "    </tr>\n",
       "  </tbody>\n",
       "</table>\n",
       "</div>"
      ],
      "text/plain": [
       "      Impression        Click    Purchase      Earning\n",
       "0  120103.503796  3216.547958  702.160346  1939.611243\n",
       "1  134775.943363  3635.082422  834.054286  2929.405820\n",
       "2  107806.620788  3057.143560  422.934258  2526.244877\n",
       "3  116445.275526  4650.473911  429.033535  2281.428574\n",
       "4  145082.516838  5201.387724  749.860442  2781.697521"
      ]
     },
     "execution_count": 5,
     "metadata": {},
     "output_type": "execute_result"
    }
   ],
   "source": [
    "data_test.head()"
   ]
  },
  {
   "cell_type": "markdown",
   "id": "be82d59d",
   "metadata": {
    "papermill": {
     "duration": 0.007172,
     "end_time": "2022-06-20T01:55:38.013666",
     "exception": false,
     "start_time": "2022-06-20T01:55:38.006494",
     "status": "completed"
    },
    "tags": []
   },
   "source": [
    "## Test normality assumption"
   ]
  },
  {
   "cell_type": "code",
   "execution_count": 6,
   "id": "9de9ca6d",
   "metadata": {
    "execution": {
     "iopub.execute_input": "2022-06-20T01:55:38.030456Z",
     "iopub.status.busy": "2022-06-20T01:55:38.029757Z",
     "iopub.status.idle": "2022-06-20T01:55:38.055241Z",
     "shell.execute_reply": "2022-06-20T01:55:38.054093Z"
    },
    "papermill": {
     "duration": 0.03635,
     "end_time": "2022-06-20T01:55:38.057275",
     "exception": false,
     "start_time": "2022-06-20T01:55:38.020925",
     "status": "completed"
    },
    "tags": []
   },
   "outputs": [
    {
     "data": {
      "text/plain": [
       "582.1060966484677"
      ]
     },
     "execution_count": 6,
     "metadata": {},
     "output_type": "execute_result"
    }
   ],
   "source": [
    "data_control.groupby(\"Click\")['Purchase'].mean() #Before\n",
    "data_test.groupby(\"Click\")['Purchase'].mean() #The next tried method also increased, but did it increase by chance?\n",
    "data_control[\"Purchase\"].mean() #550.894058\n",
    "data_test[\"Purchase\"].mean() #582.106096 an increase is observed"
   ]
  },
  {
   "cell_type": "code",
   "execution_count": 7,
   "id": "54546a43",
   "metadata": {
    "execution": {
     "iopub.execute_input": "2022-06-20T01:55:38.073365Z",
     "iopub.status.busy": "2022-06-20T01:55:38.072946Z",
     "iopub.status.idle": "2022-06-20T01:55:38.078786Z",
     "shell.execute_reply": "2022-06-20T01:55:38.077676Z"
    },
    "papermill": {
     "duration": 0.016281,
     "end_time": "2022-06-20T01:55:38.080761",
     "exception": false,
     "start_time": "2022-06-20T01:55:38.064480",
     "status": "completed"
    },
    "tags": []
   },
   "outputs": [
    {
     "name": "stdout",
     "output_type": "stream",
     "text": [
      "Test Stat = 0.9589, p-value = 0.1541\n"
     ]
    }
   ],
   "source": [
    "#does the test data follows normal distribution?\n",
    "#H0: follows noraml / H1: not follows\n",
    "test_stat, pvalue = sp.stats.shapiro(data_test['Purchase'])\n",
    "print('Test Stat = %.4f, p-value = %.4f' % (test_stat, pvalue))\n",
    "\n",
    "# H0 cannot be denied"
   ]
  },
  {
   "cell_type": "code",
   "execution_count": 8,
   "id": "65c22565",
   "metadata": {
    "execution": {
     "iopub.execute_input": "2022-06-20T01:55:38.096722Z",
     "iopub.status.busy": "2022-06-20T01:55:38.096348Z",
     "iopub.status.idle": "2022-06-20T01:55:38.102130Z",
     "shell.execute_reply": "2022-06-20T01:55:38.101108Z"
    },
    "papermill": {
     "duration": 0.015928,
     "end_time": "2022-06-20T01:55:38.103894",
     "exception": false,
     "start_time": "2022-06-20T01:55:38.087966",
     "status": "completed"
    },
    "tags": []
   },
   "outputs": [
    {
     "name": "stdout",
     "output_type": "stream",
     "text": [
      "Test Stat = 0.9773, p-value = 0.5891\n"
     ]
    }
   ],
   "source": [
    "\n",
    "test_stat, pvalue = sp.stats.shapiro(data_control['Purchase'])\n",
    "print('Test Stat = %.4f, p-value = %.4f' % (test_stat, pvalue))\n",
    "\n",
    "# H0 cannot be denied"
   ]
  },
  {
   "cell_type": "markdown",
   "id": "a6995c61",
   "metadata": {
    "papermill": {
     "duration": 0.007072,
     "end_time": "2022-06-20T01:55:38.118291",
     "exception": false,
     "start_time": "2022-06-20T01:55:38.111219",
     "status": "completed"
    },
    "tags": []
   },
   "source": [
    "## Test variance homogenous"
   ]
  },
  {
   "cell_type": "code",
   "execution_count": 9,
   "id": "bdd92d7f",
   "metadata": {
    "execution": {
     "iopub.execute_input": "2022-06-20T01:55:38.134482Z",
     "iopub.status.busy": "2022-06-20T01:55:38.133785Z",
     "iopub.status.idle": "2022-06-20T01:55:38.142336Z",
     "shell.execute_reply": "2022-06-20T01:55:38.141261Z"
    },
    "papermill": {
     "duration": 0.019189,
     "end_time": "2022-06-20T01:55:38.144655",
     "exception": false,
     "start_time": "2022-06-20T01:55:38.125466",
     "status": "completed"
    },
    "tags": []
   },
   "outputs": [
    {
     "name": "stdout",
     "output_type": "stream",
     "text": [
      "Test Stat = 2.6393, p-value = 0.1083\n"
     ]
    }
   ],
   "source": [
    "#H0: Variances are Homogeneous / H1: Variances are not  Homogeneous\n",
    "test_stat, pvalue = sp.stats.levene(data_control[\"Purchase\"],data_test[\"Purchase\"])\n",
    "print('Test Stat = %.4f, p-value = %.4f' % (test_stat, pvalue))\n",
    "# H0 cannot be denied\n",
    "# Variances are also homogeneous\n",
    "# Independent two-sample t-test (parametric test) if assumptions are met"
   ]
  },
  {
   "cell_type": "code",
   "execution_count": 10,
   "id": "40b9b940",
   "metadata": {
    "execution": {
     "iopub.execute_input": "2022-06-20T01:55:38.161237Z",
     "iopub.status.busy": "2022-06-20T01:55:38.160626Z",
     "iopub.status.idle": "2022-06-20T01:55:38.167162Z",
     "shell.execute_reply": "2022-06-20T01:55:38.166084Z"
    },
    "papermill": {
     "duration": 0.016858,
     "end_time": "2022-06-20T01:55:38.168938",
     "exception": false,
     "start_time": "2022-06-20T01:55:38.152080",
     "status": "completed"
    },
    "tags": []
   },
   "outputs": [
    {
     "name": "stdout",
     "output_type": "stream",
     "text": [
      "Test Stat = -0.9416, p-value = 0.3493\n"
     ]
    }
   ],
   "source": [
    "test_stat, pvalue = sp.stats.ttest_ind(data_control[\"Purchase\"],data_test[\"Purchase\"],\n",
    "                              equal_var=True)\n",
    "print('Test Stat = %.4f, p-value = %.4f' % (test_stat, pvalue))\n",
    "\n",
    "# H0 cannot be denied\n",
    "# There is no statistically significant difference of the mean between the two."
   ]
  },
  {
   "cell_type": "code",
   "execution_count": 11,
   "id": "50b4a03d",
   "metadata": {
    "execution": {
     "iopub.execute_input": "2022-06-20T01:55:38.186245Z",
     "iopub.status.busy": "2022-06-20T01:55:38.185192Z",
     "iopub.status.idle": "2022-06-20T01:55:38.196698Z",
     "shell.execute_reply": "2022-06-20T01:55:38.195095Z"
    },
    "papermill": {
     "duration": 0.022623,
     "end_time": "2022-06-20T01:55:38.199164",
     "exception": false,
     "start_time": "2022-06-20T01:55:38.176541",
     "status": "completed"
    },
    "tags": []
   },
   "outputs": [
    {
     "name": "stdout",
     "output_type": "stream",
     "text": [
      "Test Stat = 0.9773, p-value = 0.5891\n",
      "Test Stat = 0.9589, p-value = 0.1541\n"
     ]
    }
   ],
   "source": [
    "#recommend maximum bidding as there is no statistically significant difference between them\n",
    "data_control.groupby(\"Impression\")['Purchase'].mean().sum() #Before 22035.762350\n",
    "data_test.groupby(\"Impression\")['Purchase'].mean().sum() #After 23284.243865\n",
    "\n",
    "test_stat, pvalue = shapiro(data_control.groupby(\"Impression\")['Purchase'].mean())\n",
    "print('Test Stat = %.4f, p-value = %.4f' % (test_stat, pvalue))\n",
    "\n",
    "test_stat, pvalue = shapiro(data_test.groupby(\"Impression\")['Purchase'].mean())\n",
    "print('Test Stat = %.4f, p-value = %.4f' % (test_stat, pvalue))"
   ]
  },
  {
   "cell_type": "markdown",
   "id": "79bb24c6",
   "metadata": {
    "papermill": {
     "duration": 0.007073,
     "end_time": "2022-06-20T01:55:38.213984",
     "exception": false,
     "start_time": "2022-06-20T01:55:38.206911",
     "status": "completed"
    },
    "tags": []
   },
   "source": [
    "## Test for individual feature"
   ]
  },
  {
   "cell_type": "code",
   "execution_count": 12,
   "id": "abe970d5",
   "metadata": {
    "execution": {
     "iopub.execute_input": "2022-06-20T01:55:38.230697Z",
     "iopub.status.busy": "2022-06-20T01:55:38.229931Z",
     "iopub.status.idle": "2022-06-20T01:55:38.236600Z",
     "shell.execute_reply": "2022-06-20T01:55:38.235914Z"
    },
    "papermill": {
     "duration": 0.017016,
     "end_time": "2022-06-20T01:55:38.238424",
     "exception": false,
     "start_time": "2022-06-20T01:55:38.221408",
     "status": "completed"
    },
    "tags": []
   },
   "outputs": [],
   "source": [
    "def pvalue_plot(col, equal_var = True):\n",
    "    pvalue_plot_list = []\n",
    "    for i in range(1, len(data_control[col].values)):\n",
    "        test_stat, pvalue = sp.stats.ttest_ind(data_control.loc[:i, col], data_test.loc[:i, col], equal_var=equal_var)\n",
    "        pvalue_plot_list.append(pvalue)\n",
    "    plt.plot(pvalue_plot_list)\n",
    "    plt.ylabel(\"P-Value\")\n",
    "    plt.xlabel(\"Count\")\n",
    "    plt.show()"
   ]
  },
  {
   "cell_type": "code",
   "execution_count": 13,
   "id": "b98b0869",
   "metadata": {
    "execution": {
     "iopub.execute_input": "2022-06-20T01:55:38.255221Z",
     "iopub.status.busy": "2022-06-20T01:55:38.254611Z",
     "iopub.status.idle": "2022-06-20T01:55:38.910027Z",
     "shell.execute_reply": "2022-06-20T01:55:38.909046Z"
    },
    "papermill": {
     "duration": 0.666398,
     "end_time": "2022-06-20T01:55:38.912296",
     "exception": false,
     "start_time": "2022-06-20T01:55:38.245898",
     "status": "completed"
    },
    "tags": []
   },
   "outputs": [
    {
     "data": {
      "image/png": "[encoded data removed]",
      "text/plain": [
       "<Figure size 432x288 with 1 Axes>"
      ]
     },
     "metadata": {
      "needs_background": "light"
     },
     "output_type": "display_data"
    },
    {
     "data": {
      "image/png": "[encoded data removed]",
      "text/plain": [
       "<Figure size 432x288 with 1 Axes>"
      ]
     },
     "metadata": {
      "needs_background": "light"
     },
     "output_type": "display_data"
    },
    {
     "data": {
      "image/png": "[encoded data removed]",
      "text/plain": [
       "<Figure size 432x288 with 1 Axes>"
      ]
     },
     "metadata": {
      "needs_background": "light"
     },
     "output_type": "display_data"
    }
   ],
   "source": [
    "#constanctly cannot reject H0\n",
    "pvalue_plot(col=\"Purchase\", equal_var=True)\n",
    "#reject H0 from around 12-15\n",
    "pvalue_plot(col=\"Click\", equal_var=False)\n",
    "pvalue_plot(col=\"Earning\", equal_var=True)"
   ]
  },
  {
   "cell_type": "markdown",
   "id": "2c3928c3",
   "metadata": {
    "papermill": {
     "duration": 0.008426,
     "end_time": "2022-06-20T01:55:38.929688",
     "exception": false,
     "start_time": "2022-06-20T01:55:38.921262",
     "status": "completed"
    },
    "tags": []
   },
   "source": [
    "# Test\n",
    "**Normality assumption**\n",
    "\n",
    " \n",
    "* **Visualization**: histogram, QQ-plot\n",
    "\n",
    "* **Statistical tests:**\n",
    "\n",
    "D'Agostino-Pearson, Anderson-Darling, Shapiro-Wilk and Kolmogorov-Smirnov. Each of the tests produces a p-value that tests the null hypothesis that the values (the sample) were sampled from a Normal (Gaussian) distribution (or population). \n",
    "* the Anderson-Darling test is for completely specified distributions, while the Shapiro-Wilk is for normals with any mean and variance.\n",
    "* Anderson-Darling test is much more sensitive to the tails of distribution, whereas Kolmogorov-Smirnov test is more aware of the center of distribution. \n",
    "* If data tends to have individual outliers, the Ryan-Joiner test is the most appropriate.\n",
    "\n",
    "**Variance homogeneity**\n",
    "* f-test: Test for the equality of the two population variances. If a researcher wants to test whether or not two independent samples have been drawn from a normal population with the same variability, then he generally employs the F-test.\n",
    "* Levene's test (levene):  Inferential statistic used to assess the equality of variances for a variable calculated for two or more groups\n",
    "\n",
    "Note: The above two tests are commonly used to check for homogeneity of variance: Fisher's F test and Levene's test. Fisher's F test, which is introduced here, is restricted to comparison of two variances/groups while Levene's test can assess more than two variances/groups.\n",
    "\n",
    "* t-test(ttest_ind): This is a two-sided test for the null hypothesis that 2 independent samples have identical average (expected) values. A t-test can only be used when comparing the means of two groups "
   ]
  },
  {
   "cell_type": "markdown",
   "id": "38524ab3",
   "metadata": {
    "papermill": {
     "duration": 0.008523,
     "end_time": "2022-06-20T01:55:38.947066",
     "exception": false,
     "start_time": "2022-06-20T01:55:38.938543",
     "status": "completed"
    },
    "tags": []
   },
   "source": [
    "**Reference**\n",
    "\n",
    "\n",
    "* [https://vwo.com/ab-testing/](http://)\n",
    "* https://blog.hubspot.com/marketing/how-to-do-a-b-testing"
   ]
  }
 ],
 "metadata": {
  "kernelspec": {
   "display_name": "Python 3",
   "language": "python",
   "name": "python3"
  },
  "language_info": {
   "codemirror_mode": {
    "name": "ipython",
    "version": 3
   },
   "file_extension": ".py",
   "mimetype": "text/x-python",
   "name": "python",
   "nbconvert_exporter": "python",
   "pygments_lexer": "ipython3",
   "version": "3.7.12"
  },
  "papermill": {
   "default_parameters": {},
   "duration": 27.832883,
   "end_time": "2022-06-20T01:55:39.781147",
   "environment_variables": {},
   "exception": null,
   "input_path": "__notebook__.ipynb",
   "output_path": "__notebook__.ipynb",
   "parameters": {},
   "start_time": "2022-06-20T01:55:11.948264",
   "version": "2.3.4"
  }
 },
 "nbformat": 4,
 "nbformat_minor": 5
}
